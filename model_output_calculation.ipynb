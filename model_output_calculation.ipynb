{
  "nbformat": 4,
  "nbformat_minor": 0,
  "metadata": {
    "colab": {
      "provenance": []
    },
    "kernelspec": {
      "name": "python3",
      "display_name": "Python 3"
    },
    "language_info": {
      "name": "python"
    }
  },
  "cells": [
    {
      "cell_type": "code",
      "execution_count": null,
      "metadata": {
        "id": "yG37j_pvw1eN"
      },
      "outputs": [],
      "source": [
        "%%capture\n",
        "!pip install tensorflow\n",
        "!pip install tensorflow_hub\n",
        "!pip install -q -U \"tensorflow-text==2.13.*\"\n",
        "!pip install \"tf-models-official==2.13.*\"\n",
        "!pip install gdown\n",
        "!pip install tensorflow-text --no-dependencies"
      ]
    },
    {
      "cell_type": "code",
      "source": [
        "from google.colab import drive\n",
        "drive.mount('/content/drive')"
      ],
      "metadata": {
        "colab": {
          "base_uri": "https://localhost:8080/"
        },
        "id": "2KiXLqinxCDH",
        "outputId": "13f1a871-df32-4080-f949-bb90b2e59e96"
      },
      "execution_count": null,
      "outputs": [
        {
          "output_type": "stream",
          "name": "stdout",
          "text": [
            "Mounted at /content/drive\n"
          ]
        }
      ]
    },
    {
      "cell_type": "code",
      "source": [
        "import tensorflow as tf\n",
        "import gdown\n",
        "import tensorflow_hub as hub\n",
        "import tensorflow_text as text\n",
        "import tensorflow as tf\n",
        "from flask import Flask, request, jsonify\n",
        "import numpy as np\n",
        "import os"
      ],
      "metadata": {
        "id": "Oal17HR6w45t"
      },
      "execution_count": null,
      "outputs": []
    },
    {
      "cell_type": "code",
      "source": [
        "# Load the machine learning model\n",
        "model_recomendation = tf.keras.models.load_model(\"/content/drive/MyDrive/Scope Of Science Recommendation Model\")"
      ],
      "metadata": {
        "colab": {
          "base_uri": "https://localhost:8080/"
        },
        "id": "iB0tl1sZ73r_",
        "outputId": "f523bc40-eb2d-495c-e348-8f79aacc73f6"
      },
      "execution_count": null,
      "outputs": [
        {
          "output_type": "stream",
          "name": "stderr",
          "text": [
            "WARNING:tensorflow:No training configuration found in save file, so the model was *not* compiled. Compile it manually.\n"
          ]
        }
      ]
    },
    {
      "cell_type": "code",
      "source": [
        "model_recomendation.summary()\n",
        "tf.keras.utils.plot_model(model_recomendation)"
      ],
      "metadata": {
        "colab": {
          "base_uri": "https://localhost:8080/",
          "height": 677
        },
        "id": "DszDkXN0B_iV",
        "outputId": "15d73cda-c081-4db8-a23f-4936f4603d71"
      },
      "execution_count": null,
      "outputs": [
        {
          "output_type": "stream",
          "name": "stdout",
          "text": [
            "Model: \"Scope_of_Science_Recommendation_Model\"\n",
            "__________________________________________________________________________________________________\n",
            " Layer (type)                Output Shape                 Param #   Connected to                  \n",
            "==================================================================================================\n",
            " text_input_ei (InputLayer)  [(None,)]                    0         []                            \n",
            "                                                                                                  \n",
            " text_input_sn (InputLayer)  [(None,)]                    0         []                            \n",
            "                                                                                                  \n",
            " text_input_tf (InputLayer)  [(None,)]                    0         []                            \n",
            "                                                                                                  \n",
            " text_input_jp (InputLayer)  [(None,)]                    0         []                            \n",
            "                                                                                                  \n",
            " model_ei (Functional)       (None, 1)                    1781335   ['text_input_ei[0][0]']       \n",
            "                                                          06                                      \n",
            "                                                                                                  \n",
            " model_sn (Functional)       (None, 1)                    1781335   ['text_input_sn[0][0]']       \n",
            "                                                          06                                      \n",
            "                                                                                                  \n",
            " model_tf (Functional)       (None, 1)                    1778542   ['text_input_tf[0][0]']       \n",
            "                                                          10                                      \n",
            "                                                                                                  \n",
            " model_jp (Functional)       (None, 1)                    1778542   ['text_input_jp[0][0]']       \n",
            "                                                          10                                      \n",
            "                                                                                                  \n",
            "==================================================================================================\n",
            "Total params: 711975432 (2.65 GB)\n",
            "Trainable params: 711975428 (2.65 GB)\n",
            "Non-trainable params: 4 (4.00 Byte)\n",
            "__________________________________________________________________________________________________\n"
          ]
        },
        {
          "output_type": "execute_result",
          "data": {
            "image/png": "[encoded data removed]",
            "text/plain": [
              "<IPython.core.display.Image object>"
            ]
          },
          "metadata": {},
          "execution_count": 5
        }
      ]
    },
    {
      "cell_type": "code",
      "source": [
        "import numpy as np\n",
        "EI_text = np.array(['saya suka menyendiri'])\n",
        "SN_text = np.array(['saya selalu mengikuti kata hati'])\n",
        "TF_text = np.array(['saya sangat suka melakukakan analisis ketika memutuskan sesuatu'])\n",
        "JP_text = np.array(['saya suka beradaptasi dengan situasi baru'])"
      ],
      "metadata": {
        "colab": {
          "base_uri": "https://localhost:8080/"
        },
        "id": "HGS2RuTX86EQ",
        "outputId": "80cdeaad-9419-49ce-d54a-5e8dd08b9af4"
      },
      "execution_count": null,
      "outputs": [
        {
          "output_type": "stream",
          "name": "stdout",
          "text": [
            "1/1 [==============================] - 9s 9s/step\n"
          ]
        },
        {
          "output_type": "execute_result",
          "data": {
            "text/plain": [
              "[array([[0.11417162]], dtype=float32),\n",
              " array([[0.9435409]], dtype=float32),\n",
              " array([[0.00161317]], dtype=float32),\n",
              " array([[0.34802148]], dtype=float32)]"
            ]
          },
          "metadata": {},
          "execution_count": 6
        }
      ]
    },
    {
      "cell_type": "code",
      "source": [
        "numpy_array = [EI_text,SN_text,TF_text,JP_text]\n",
        "prediction=(model_recomendation.predict(numpy_array))\n",
        "print(prediction)\n"
      ],
      "metadata": {
        "colab": {
          "base_uri": "https://localhost:8080/"
        },
        "id": "pRMr7wF49Pxl",
        "outputId": "293b1839-1c1a-4c55-9e7b-b9cada40e0f4"
      },
      "execution_count": null,
      "outputs": [
        {
          "output_type": "stream",
          "name": "stdout",
          "text": [
            "1/1 [==============================] - 3s 3s/step\n",
            "[array([[0.11417162]], dtype=float32), array([[0.9435409]], dtype=float32), array([[0.00161317]], dtype=float32), array([[0.34802148]], dtype=float32)]\n"
          ]
        }
      ]
    },
    {
      "cell_type": "code",
      "source": [
        "print(prediction[0][0])\n",
        "print(prediction[1][0])\n",
        "print(prediction[2][0])\n",
        "print(prediction[3][0])\n",
        "\n",
        "array_1 = [float(1-prediction[0][0]), float(prediction[0][0])]\n",
        "array_2 = [float(1-prediction[1][0]), float(prediction[1][0])]\n",
        "array_3 = [float(1-prediction[2][0]), float(prediction[2][0])]\n",
        "array_4 = [float(1-prediction[3][0]), float(prediction[3][0])]"
      ],
      "metadata": {
        "colab": {
          "base_uri": "https://localhost:8080/"
        },
        "id": "gwo6r5lS9bD0",
        "outputId": "fe1c5bc0-022b-4ae9-ffbc-b226bd6d6620"
      },
      "execution_count": null,
      "outputs": [
        {
          "output_type": "stream",
          "name": "stdout",
          "text": [
            "[0.11417162]\n",
            "[0.9435409]\n",
            "[0.00161317]\n",
            "[0.34802148]\n",
            "[[0.8858283758163452, 0.11417161673307419], [0.056459128856658936, 0.9435408711433411], [0.9983868598937988, 0.0016131687443703413], [0.6519784927368164, 0.3480214774608612]]\n"
          ]
        }
      ]
    },
    {
      "cell_type": "code",
      "source": [
        "def gabung_probabilitas(arrays):\n",
        "    num_arrays = len(arrays)\n",
        "    num_elements = len(arrays[0])\n",
        "\n",
        "# Inisialisasi array hasil dengan nol\n",
        "    result_array = [0.0] * num_elements\n",
        "\n",
        "# Menghitung rata-rata berbobot dari setiap elemen array\n",
        "    for array in arrays:\n",
        "        for i in range(num_elements):\n",
        "            result_array[i] += array[i] / num_arrays\n",
        "\n",
        "# Menormalisasi hasil sehingga jumlahnya menjadi 1\n",
        "    total = sum(result_array)\n",
        "    result_array = [prob / total for prob in result_array]\n",
        "    percentage_data = [f\"{round(element * 100, 2)}%\" for element in result_array]\n",
        "    return percentage_data\n",
        "\n",
        "# Contoh penggunaan\n",
        "arrays = [array_1, array_2, array_3, array_4]\n",
        "hasil_gabungan = gabung_probabilitas(arrays)\n",
        "\n",
        "\n",
        "print(hasil_gabungan)"
      ],
      "metadata": {
        "colab": {
          "base_uri": "https://localhost:8080/"
        },
        "id": "IaJiOG8Q8ptR",
        "outputId": "78a32ea6-ea8b-4f58-b0da-57b05936ac25"
      },
      "execution_count": null,
      "outputs": [
        {
          "output_type": "stream",
          "name": "stdout",
          "text": [
            "['64.82%', '35.18%']\n"
          ]
        }
      ]
    },
    {
      "cell_type": "code",
      "source": [
        "app = Flask(__name__)\n",
        "# API endpoint for predictions\n",
        "@app.route('/predict', methods=['POST'])\n",
        "def predict():\n",
        "    try:\n",
        "        # Get input data from the request\n",
        "        data = request.get_json()\n",
        "\n",
        "        # Extract text inputs\n",
        "        EI_text = np.array([data['EI_text']])\n",
        "        SN_text = np.array([data['SN_text']])\n",
        "        TF_text = np.array([data['TF_text']])\n",
        "        JP_text = np.array([data['JP_text']])\n",
        "\n",
        "        # Create a numpy array from the input data\n",
        "        numpy_array = [EI_text, SN_text, TF_text, JP_text]\n",
        "\n",
        "        # Make predictions using the loaded model\n",
        "        predictions = model_recomendation.predict(numpy_array)\n",
        "\n",
        "        # Convert predictions to a list\n",
        "        predictions_list = predictions.tolist()\n",
        "\n",
        "        # Return the predictions as JSON\n",
        "        return jsonify({'predictions': predictions_list})\n",
        "\n",
        "    except Exception as e:\n",
        "        return jsonify({'error': str(e)})\n",
        "\n",
        "if __name__ == '__main__':\n",
        "    # Run the Flask app\n",
        "    app.run(debug=True)"
      ],
      "metadata": {
        "colab": {
          "base_uri": "https://localhost:8080/"
        },
        "id": "-cbaOQzDw8SX",
        "outputId": "a7f70be5-94f7-4bbc-ad21-e75a4ce16590"
      },
      "execution_count": null,
      "outputs": [
        {
          "output_type": "stream",
          "name": "stdout",
          "text": [
            " * Serving Flask app '__main__'\n",
            " * Debug mode: on\n"
          ]
        },
        {
          "output_type": "stream",
          "name": "stderr",
          "text": [
            "INFO:werkzeug:\u001b[31m\u001b[1mWARNING: This is a development server. Do not use it in a production deployment. Use a production WSGI server instead.\u001b[0m\n",
            " * Running on http://127.0.0.1:5000\n",
            "INFO:werkzeug:\u001b[33mPress CTRL+C to quit\u001b[0m\n",
            "INFO:werkzeug: * Restarting with stat\n"
          ]
        }
      ]
    },
    {
      "cell_type": "code",
      "source": [
        "data_to_send = {'key': 'value'}\n",
        "response_post = requests.post('http://localhost:5000/api/post', json=data_to_send)\n",
        "print('POST Response:', response_post.text)"
      ],
      "metadata": {
        "id": "C41RPH4g9qSo"
      },
      "execution_count": null,
      "outputs": []
    }
  ]
}